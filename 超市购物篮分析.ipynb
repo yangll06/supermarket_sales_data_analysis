{
 "cells": [
  {
   "cell_type": "markdown",
   "metadata": {},
   "source": [
    "# 项目背景与方法 "
   ]
  },
  {
   "cell_type": "markdown",
   "metadata": {},
   "source": [
    "## 背景描述\n",
    "近年来，随着新零售业的快速发展，消费者购买商品时有了更多的对比和选择，导致超市行业的竞争日益激烈，利润空间不断压缩。超市的经营管理产生了大量数据，对这些数据进行分析，可以提升超市的竞争力，为超市的运营及经营策略调整提供重要依据。"
   ]
  },
  {
   "cell_type": "markdown",
   "metadata": {},
   "source": [
    "## 数据来源及介绍\n",
    "ModelWhale平台上泰迪杯”数据分析大赛A题 超市销售数据分析。为某超市 2015 年 1 月 1 日至 4 月 30 的经营数据。\n",
    "\n",
    "| 列名     | 说明    | \n",
    "| -------  | -------|\n",
    "| 顾客编码  | 整数类型  |  \n",
    "| 大类编码  | 整数类型  | \n",
    "| 大类名称  | 字符串    |  \n",
    "| 中类编码  | 整数类型  |\n",
    "| 中类名称  | 字符串    |\n",
    "| 小类编码  | 整数类型  |\n",
    "| 小类名称  | 字符串    |\n",
    "| 中类编码  | 整数类型  |\n",
    "| 销售日期  | 时间类型  |\n",
    "| 销售月份  | 时间类型  |\n",
    "| 商品编码  | 字符串    |\n",
    "| 规格型号  | 字符串    |\n",
    "| 商品类型  | 字符串    |\n",
    "| 单位     | 字符串    |\n",
    "| 销售数量  | 整数类型  |\n",
    "| 销售金额  | 浮点类型  |\n",
    "| 商品单价  | 浮点类型  |\n",
    "| 是否促销  | 否       |\n"
   ]
  },
  {
   "cell_type": "markdown",
   "metadata": {},
   "source": [
    "## 问题描述\n",
    "* 对销售数据进行统计分析，并作可视化展示。\n",
    "* 分析顾客的消费行为。\n",
    "* 研究促销对销售的影响。"
   ]
  },
  {
   "cell_type": "markdown",
   "metadata": {},
   "source": [
    "## 技术方法\n",
    "使用图形界面工具Navicat完成数据导入，清洗\n",
    "使用python中的matplotlib完成可视化？"
   ]
  },
  {
   "cell_type": "markdown",
   "metadata": {},
   "source": [
    "# 数据导入\n",
    " "
   ]
  },
  {
   "cell_type": "code",
   "execution_count": null,
   "metadata": {},
   "outputs": [],
   "source": [
    "#关键过程如下"
   ]
  },
  {
   "cell_type": "markdown",
   "metadata": {},
   "source": [
    "![图片](图片/1.png  \"新建数据库\")\n",
    "新建数据库"
   ]
  },
  {
   "cell_type": "markdown",
   "metadata": {},
   "source": [
    "![图片](图片/2.png)\n",
    "数据导入"
   ]
  },
  {
   "cell_type": "markdown",
   "metadata": {},
   "source": [
    "![图片](图片/3.png)\n",
    "日期格式设置"
   ]
  },
  {
   "cell_type": "markdown",
   "metadata": {},
   "source": [
    "![图片](图片/4.png)\n",
    "表格重命名"
   ]
  },
  {
   "cell_type": "markdown",
   "metadata": {},
   "source": [
    "![图片](图片/5.png)\n",
    "字段类型设置"
   ]
  },
  {
   "cell_type": "markdown",
   "metadata": {},
   "source": [
    "![图片](图片/6.png)\n",
    " 成功将全部42816条数据导入"
   ]
  },
  {
   "cell_type": "code",
   "execution_count": null,
   "metadata": {},
   "outputs": [],
   "source": [
    "销售日期和销售月份字段信息重复，删除销售月份列\n",
    "ALTER TABLE salesdata DROP COLUMN 销售月份"
   ]
  },
  {
   "cell_type": "code",
   "execution_count": null,
   "metadata": {},
   "outputs": [],
   "source": [
    "import pandas as pd\n",
    "import matplotlib.pyplot as plt\n",
    "import numpy as np\n",
    "import warnings\n",
    "import plotly\n",
    "import plotly.graph_objects as go\n",
    "from IPython.display import HTML\n",
    "\n",
    "#解决中文字体不显示，正负号不显示问题\n",
    "plt.rcParams['font.family'] = ['sans-serif']\n",
    "plt.rcParams['font.sans-serif'] = ['SimHei']\n",
    "plt.rcParams['axes.unicode_minus'] = False\n",
    "\n",
    "%matplotlib widget\n",
    "\n",
    "warnings.filterwarnings('ignore')"
   ]
  },
  {
   "cell_type": "markdown",
   "metadata": {},
   "source": [
    "#  数据清洗"
   ]
  },
  {
   "cell_type": "markdown",
   "metadata": {},
   "source": [
    "## 删除重复数据"
   ]
  },
  {
   "cell_type": "raw",
   "metadata": {},
   "source": [
    "查看是否有重复值\n",
    "SELECT (SELECT count(*) FROM salesdata)-(SELECT count(*) FROM (SELECT DISTINCT * FROM salesdata) AS A) as  重复记录数量"
   ]
  },
  {
   "cell_type": "code",
   "execution_count": null,
   "metadata": {},
   "outputs": [],
   "source": [
    "从查询结果可知，数据中有3重复记录。"
   ]
  },
  {
   "cell_type": "code",
   "execution_count": null,
   "metadata": {},
   "outputs": [],
   "source": [
    "#删除重复数据\n",
    "CREATE table salesdatas SELECT DISTINCT * FROM salesdata;\n",
    "DROP TABLE salesdata\n",
    "ALTER TABLE salesdatas RENAME TO salesdata"
   ]
  },
  {
   "cell_type": "code",
   "execution_count": null,
   "metadata": {},
   "outputs": [],
   "source": [
    "#得到42813条无重复记录\n",
    "SELECT count(*) FROM salesdata"
   ]
  },
  {
   "cell_type": "markdown",
   "metadata": {},
   "source": [
    "## 缺失值查询与处理"
   ]
  },
  {
   "cell_type": "raw",
   "metadata": {},
   "source": [
    "查看是否有缺失值(规格型号字段中有空格形式的数据，暂时按照非空值处理)\n",
    "SELECT COUNT(顾客编号),COUNT(大类编码),COUNT(大类名称),COUNT(中类编码),COUNT(中类名称),COUNT(小类编码),\n",
    "count(小类名称),count(销售日期),count(商品编码),count(规格型号),count(商品类型),count(单位),\n",
    "count(销售数量),count(销售金额),count(商品单价),count(是否促销)\n",
    "FROM salesdata"
   ]
  },
  {
   "cell_type": "markdown",
   "metadata": {},
   "source": [
    "![图片](图片/7.png)\n",
    "各字段缺失值统计"
   ]
  },
  {
   "cell_type": "code",
   "execution_count": null,
   "metadata": {},
   "outputs": [],
   "source": [
    "从查询结果来看，销售数量字段有两个缺失值"
   ]
  },
  {
   "cell_type": "code",
   "execution_count": null,
   "metadata": {},
   "outputs": [],
   "source": [
    "删除销售字段为空的记录\n",
    "DELETE FROM salesdata WHERE 销售数量 is null"
   ]
  },
  {
   "cell_type": "code",
   "execution_count": null,
   "metadata": {},
   "outputs": [],
   "source": [
    "再次查看是否有缺失值\n",
    "SELECT COUNT(顾客编号),COUNT(大类编码),COUNT(大类名称),COUNT(中类编码),COUNT(中类名称),COUNT(小类编码),\n",
    "count(小类名称),count(销售日期),count(商品编码),count(规格型号),count(商品类型),count(单位),\n",
    "count(销售数量),count(销售金额),count(商品单价),count(是否促销)\n",
    "FROM salesdata"
   ]
  },
  {
   "cell_type": "code",
   "execution_count": null,
   "metadata": {},
   "outputs": [],
   "source": [
    "从查询结果可以看出，各字段已没有缺失值"
   ]
  },
  {
   "cell_type": "markdown",
   "metadata": {},
   "source": [
    "## 异常值查询与处理"
   ]
  },
  {
   "cell_type": "raw",
   "metadata": {},
   "source": [
    "销售日期：2015年2月29日，两条记录\n",
    "删除异常数据\n",
    "DELETE FROM salesdata WHERE 销售日期='20150229';"
   ]
  },
  {
   "cell_type": "raw",
   "metadata": {},
   "source": [
    "查看数值型数据的最小值\n",
    "SELECT min(顾客编号),min(大类编码),min(中类编码),min(小类编码),\n",
    "min(销售数量),min(销售金额),min(商品单价)\n",
    "FROM salesdata"
   ]
  },
  {
   "cell_type": "markdown",
   "metadata": {},
   "source": [
    "![图片](图片/8.png)\n",
    "从查询结果可以看出，销售金额和销售数量有负值"
   ]
  },
  {
   "cell_type": "raw",
   "metadata": {},
   "source": [
    "查看销售数量小于零的记录数量及占比\n",
    "SELECT count(1) as 销售数量小于零的记录数量 ,count(1)/(select count(1) FROM salesdata ) as 销售数量小于零的记录占比\n",
    "FROM salesdata where 销售数量<0"
   ]
  },
  {
   "cell_type": "markdown",
   "metadata": {},
   "source": [
    "![图片](图片/9.png)"
   ]
  },
  {
   "cell_type": "raw",
   "metadata": {},
   "source": [
    "查看销售金额小于零的记录数量及占比\n",
    "SELECT count(1) as 销售金额小于零的记录数量 ,count(1)/(select count(1) FROM salesdata ) as 销售金额小于零的记录占比\n",
    "FROM salesdata where 销售金额<0"
   ]
  },
  {
   "cell_type": "markdown",
   "metadata": {},
   "source": [
    "![图片](图片/10.png)"
   ]
  },
  {
   "cell_type": "raw",
   "metadata": {},
   "source": [
    "异常数据占约0.2，删除销售数量和销售金额小于0的异常值\n",
    "DELETE FROM salesdata WHERE 销售数量<0;\n",
    "DELETE FROM salesdata WHERE 销售金额<0;"
   ]
  },
  {
   "cell_type": "markdown",
   "metadata": {},
   "source": [
    "## 日期数据格式转换"
   ]
  },
  {
   "cell_type": "raw",
   "metadata": {},
   "source": [
    "删除多余数据：销售月份\n",
    "ALTER TABLE salesdata DROP COLUMN 销售月份;"
   ]
  },
  {
   "cell_type": "raw",
   "metadata": {},
   "source": [
    "修改销售日期的为时间格式\n",
    "ALTER TABLE salesdata MODIFY COLUMN 销售日期 date;"
   ]
  },
  {
   "cell_type": "markdown",
   "metadata": {},
   "source": [
    "![图片](图片/11.png)"
   ]
  },
  {
   "cell_type": "raw",
   "metadata": {},
   "source": [
    "查看清洗后的数据条目数:42721\n",
    "SELECT count(1) FROM salesdata"
   ]
  },
  {
   "cell_type": "markdown",
   "metadata": {},
   "source": [
    "![图片](图片/12.png)"
   ]
  },
  {
   "cell_type": "markdown",
   "metadata": {},
   "source": [
    "# 基于商品维度分析"
   ]
  },
  {
   "cell_type": "markdown",
   "metadata": {},
   "source": [
    "## 日销售规律探索\n",
    "每日顾客总数\n",
    "每日销售总数\n",
    "每日销售金额总数"
   ]
  },
  {
   "cell_type": "markdown",
   "metadata": {},
   "source": [
    "注意：一天同一个客户的所有购买记录算作一个购物篮（一个销售单）\n",
    "SELECT 销售日期 ,count(distinct 顾客编号) 顾客人数,\n",
    "    sum(销售数量) 商品销量,sum(销售金额) 销售金额\n",
    "FROM salesdata\n",
    "GROUP BY 销售日期"
   ]
  },
  {
   "cell_type": "code",
   "execution_count": null,
   "metadata": {},
   "outputs": [],
   "source": [
    "##日销售规律\n",
    "SELECT 销售日期 ,count(distinct 顾客编号) 顾客人数,\n",
    "    sum(销售数量) 商品销量,sum(销售金额) 销售金额\n",
    "FROM salesdata\n",
    "GROUP BY 销售日期"
   ]
  },
  {
   "cell_type": "code",
   "execution_count": null,
   "metadata": {
    "tags": []
   },
   "outputs": [],
   "source": [
    "# df = pd.read_clipboard()\n",
    "# df.to_csv('./data1.csv',index=False)"
   ]
  },
  {
   "cell_type": "code",
   "execution_count": null,
   "metadata": {},
   "outputs": [],
   "source": [
    "data1 = pd.read_csv('./data1.csv').set_index('销售日期')"
   ]
  },
  {
   "cell_type": "code",
   "execution_count": null,
   "metadata": {
    "tags": []
   },
   "outputs": [],
   "source": [
    "data1"
   ]
  },
  {
   "cell_type": "code",
   "execution_count": null,
   "metadata": {},
   "outputs": [],
   "source": [
    "def figure1(data):\n",
    "    fig = plt.figure(figsize=(8,6))\n",
    "    axe = fig.add_subplot(111)\n",
    "    axe.set_title('日销售规律图')\n",
    "    axe.set_ylabel('数量')\n",
    "    axe.plot(data.index,data['销售金额'],'b-',alpha=0.7,label='销售金额')\n",
    "    axe.plot(data.index,data['商品销量'],'m-',alpha=0.7,label='商品销量')  \n",
    "    plt.legend()\n",
    "    axe1 = axe.twinx()\n",
    "    axe1.set_ylabel('顾客人数')\n",
    "    axe1.plot(data.index,data['顾客人数'],'r-',alpha=0.7,label='顾客人数') \n",
    "    plt.legend(loc=7)\n",
    "    plt.xticks(range(1,116)[::15],data.index.to_list()[::15])"
   ]
  },
  {
   "cell_type": "code",
   "execution_count": null,
   "metadata": {
    "tags": []
   },
   "outputs": [],
   "source": [
    "figure1(data1)\n"
   ]
  },
  {
   "cell_type": "raw",
   "metadata": {},
   "source": [
    "#异常数据点\n",
    "SELECT *\n",
    "FROM\n",
    "\t\t(\n",
    "\t\tSELECT 销售日期 ,count(distinct 顾客编号) 顾客人数,\n",
    "\t\t\t\tsum(销售数量) 商品销量,sum(销售金额) 销售金额\n",
    "\t\tFROM salesdata\n",
    "\t\tGROUP BY 销售日期\n",
    "\t\t) as a\n",
    "WHERE 顾客人数<20"
   ]
  },
  {
   "cell_type": "markdown",
   "metadata": {},
   "source": [
    "![图片](图片/13.png)\n",
    "\n",
    "异常数据为2015年2月4日，当天周三，不是法定假日，却只有一个顾客"
   ]
  },
  {
   "cell_type": "markdown",
   "metadata": {},
   "source": [
    "## 周销售规律探索"
   ]
  },
  {
   "cell_type": "code",
   "execution_count": null,
   "metadata": {},
   "outputs": [],
   "source": [
    "#购物篮系数周变化趋势\n",
    "#从日销售规律可以看出，节假日对销量影响比较大，为了探究日常每周销售规律，需剔除节假日的影响\n",
    "\n",
    "SELECT dayofweek(销售日期) as 周,sum(顾客人数) 顾客人数,\n",
    "    sum(商品销量) 商品销量,sum(销售金额) 销售金额\n",
    "FROM(\n",
    "\t\tSELECT 销售日期 ,count(distinct 顾客编号) 顾客人数,\n",
    "\t\t\t\tsum(销售数量) 商品销量,sum(销售金额) 销售金额\n",
    "\t\tFROM salesdata\n",
    "\t\tGROUP BY 销售日期\n",
    "\t\t) as a\n",
    "WHERE 销售日期 not in ('2015-1-1','2015-2-11','2015-2-12','2015-2-13','2015-2-14','2015-2-15','2015-2-16'\n",
    "                   ,'2015-2-17','2015-2-18','2015-2-19','2015-2-20','2015-2-21','2015-2-22','2015-2-23'\n",
    "                   ,'2015-2-24','2015-3-5','2015-3-8','2015-4-5')\n",
    "GROUP BY 周;"
   ]
  },
  {
   "cell_type": "code",
   "execution_count": null,
   "metadata": {},
   "outputs": [],
   "source": [
    "# df = pd.read_clipboard()\n",
    "# df.to_csv('./data2.csv',index=False)\n",
    "data2 = pd.read_csv('./data2.csv').set_index('星期')"
   ]
  },
  {
   "cell_type": "code",
   "execution_count": null,
   "metadata": {
    "tags": []
   },
   "outputs": [],
   "source": [
    "data2\n",
    "# data2.index"
   ]
  },
  {
   "cell_type": "code",
   "execution_count": null,
   "metadata": {},
   "outputs": [],
   "source": [
    "def figure(data):\n",
    "    fig = plt.figure()\n",
    "    axe = fig.add_subplot(111)\n",
    "    axe.set_title('周销售规律图')\n",
    "    axe.set_ylabel('数量')\n",
    "    axe.plot(data.index,data['销售金额'],'b-',alpha=0.7,label='销售金额')\n",
    "    axe.plot(data.index,data['商品销量'],'m-',alpha=0.7,label='商品销量')  \n",
    "    plt.legend()\n",
    "    axe1 = axe.twinx()\n",
    "    axe1.set_ylabel('销售单数量')\n",
    "    axe1.plot(data.index,data['顾客人数'],'r-',alpha=0.7,label='销售单数量') \n",
    "    plt.legend(loc=7)\n",
    "    # plt.xticks(range(1,116)[::15],data.index.to_list()[::15])\n"
   ]
  },
  {
   "cell_type": "code",
   "execution_count": null,
   "metadata": {
    "tags": []
   },
   "outputs": [],
   "source": [
    "figure(data2)"
   ]
  },
  {
   "cell_type": "code",
   "execution_count": null,
   "metadata": {},
   "outputs": [],
   "source": [
    "#周三的销量最好，可用来进行促销活动，或者设定会员日\n",
    "#周四相对最差，可以挑选销售最差的周四送货、盘点货架等，也可通过设定会员日、促销等手段改善销售业绩"
   ]
  },
  {
   "cell_type": "markdown",
   "metadata": {},
   "source": [
    "## 贡献度分析\n",
    "累计贡献率（%）=（累计销售收入/销售总收入）*100%"
   ]
  },
  {
   "cell_type": "code",
   "execution_count": null,
   "metadata": {},
   "outputs": [],
   "source": [
    "SELECT 大类名称,销售金额, @累计金额:=(销售金额+@累计金额), round(@累计金额/(SELECT sum(销售金额) FROM salesdata),2) 累计贡献率\n",
    "FROM (\n",
    "\t\tSELECT 大类名称,sum(销售金额) 销售金额\n",
    "\t\tFROM salesdata\n",
    "\t\tGROUP BY 大类名称\n",
    "\t\tORDER BY 销售金额 DESC\n",
    ") as a ,(SELECT @累计金额:=0) as b"
   ]
  },
  {
   "cell_type": "markdown",
   "metadata": {},
   "source": [
    "![图片](图片/23.png)"
   ]
  },
  {
   "cell_type": "code",
   "execution_count": null,
   "metadata": {},
   "outputs": [],
   "source": [
    "# df = pd.read_clipboard()\n",
    "# df.to_csv('./data5.csv',index=False)\n",
    "data5 = pd.read_csv('./data5.csv')"
   ]
  },
  {
   "cell_type": "code",
   "execution_count": null,
   "metadata": {
    "tags": []
   },
   "outputs": [],
   "source": [
    "data5"
   ]
  },
  {
   "cell_type": "code",
   "execution_count": null,
   "metadata": {},
   "outputs": [],
   "source": [
    "line = go.Scatter(x=data5['大类名称'],y=data5['累计贡献率'],name='累计贡献率',yaxis='y2',\n",
    "                  marker=dict(size=8,color='blue'))\n",
    "bar = go.Bar(x=data5['大类名称'],y=data5['销售金额'],text=data5['销售金额'],\n",
    "             textposition='outside',name='销售金额',marker_color='rgb(200, 18, 100)')\n",
    "layout = go.Layout(title = '产品贡献度分析',title_x=0.5,\n",
    "                   xaxis_title = '大类名称',yaxis_title = '销售金额',yaxis2=dict(title='累计贡献率',overlaying='y',side='right'))\n",
    "\n",
    "fig = go.Figure([line,bar],layout=layout)\n",
    "fig.add_annotation(text=\"78%\",x=\"酒饮\", y=61213, arrowhead=1, showarrow=True,arrowcolor='red')\n",
    "HTML(fig.to_html())"
   ]
  },
  {
   "cell_type": "markdown",
   "metadata": {},
   "source": [
    "## 人气商品分析\n",
    "指定商品购物篮系数=某段时间含指定商品购物篮的销售总数/某段时间含指定商品购物篮总数\n",
    "\n",
    "指定商品的人气指数=某段时间含指定商品购物篮的销售总数/某段时间购物篮总数\n",
    "\n",
    "购物篮系数：顾客平均购买数量\n",
    "\n",
    "销售单总量（购物篮数量）：每日同一个客户购买的所有商品为一个销售单"
   ]
  },
  {
   "cell_type": "code",
   "execution_count": null,
   "metadata": {},
   "outputs": [],
   "source": [
    "#从大类的角度来分析人气类别\n",
    "#大类的总数：15\n",
    "SELECT count(distinct 大类编码 ),count(DISTINCT 大类名称)\n",
    "FROM salesdata "
   ]
  },
  {
   "cell_type": "raw",
   "metadata": {},
   "source": [
    "CREATE VIEW view1\n",
    "AS\n",
    "SELECT 大类名称,sum(含指定大类的销售数量) 含指定大类的销售数量,sum(含指定大类的销售单数) 含指定大类的销售单数,\n",
    "\t\t\tround(sum(含指定大类的销售数量)/sum(含指定大类的销售单数),4) as 购物篮系数,\n",
    "\t\t\tround(sum(含指定大类的销售数量)/( SELECT count(顾客编号)  总购物篮数\n",
    "\t\t\t\t\t\t\t\t\t\t\t\t\t\t\t\t\t\tFROM(\n",
    "\t\t\t\t\t\t\t\t\t\t\t\t\t\t\t\t\t\tSELECT 顾客编号,销售日期\n",
    "\t\t\t\t\t\t\t\t\t\t\t\t\t\t\t\t\t\tFROM salesdata\n",
    "\t\t\t\t\t\t\t\t\t\t\t\t\t\t\t\t\t\tGROUP BY 顾客编号,销售日期\n",
    "\t\t\t\t\t\t\t\t\t\t\t\t\t\t\t\t\t\tORDER BY 顾客编号,销售日期\n",
    "\t\t\t\t\t\t\t\t\t\t\t) as b)\n",
    "\t\t\t\t\t\t\t\t\t\t\t,4\n",
    "\t\t\t\t\t\t) as 人气指数\n",
    "FROM(\n",
    "\t\tSELECT 顾客编号,销售日期,大类名称,avg(含指定大类的销售数量) 含指定大类的销售数量,\n",
    "\t\t\t\t\t\tavg(含指定大类的销售单数) 含指定大类的销售单数\n",
    "\t\tFROM\n",
    "\t\t\t\t(SELECT 顾客编号,销售日期,大类名称,\n",
    "\t\t\t\t\t\t\tsum(销售数量) over(PARTITION by 顾客编号,销售日期 ) 含指定大类的销售数量,\n",
    "\t\t\t\t\t\t\tdense_rank() over (PARTITION by 顾客编号,销售日期 ) 含指定大类的销售单数\n",
    "\t\t\t\tFROM salesdata\n",
    "\t\t\t\tORDER BY 顾客编号,销售日期\n",
    "\t\t\t\t) as aa\n",
    "\t\tGROUP BY 顾客编号,销售日期,大类名称\n",
    ") as a \n",
    "GROUP BY 大类名称\n",
    "ORDER BY 人气指数 DESC"
   ]
  },
  {
   "cell_type": "markdown",
   "metadata": {},
   "source": [
    "![图片](图片/14.png)"
   ]
  },
  {
   "cell_type": "code",
   "execution_count": null,
   "metadata": {},
   "outputs": [],
   "source": [
    "# df = pd.read_clipboard()\n",
    "# df.to_csv('./data3.csv',index=False)\n",
    "data3 = pd.read_csv('./data3.csv')"
   ]
  },
  {
   "cell_type": "code",
   "execution_count": null,
   "metadata": {
    "tags": []
   },
   "outputs": [],
   "source": [
    "data3"
   ]
  },
  {
   "cell_type": "code",
   "execution_count": null,
   "metadata": {},
   "outputs": [],
   "source": [
    "def figure3(data):\n",
    "    fig = plt.figure()\n",
    "    axe = fig.add_subplot(111)\n",
    "    axe.set_title('大类的购物篮数量-购物篮系数四象限图')\n",
    "    axe.set_ylabel('含指定大类的销售单数')\n",
    "    axe.set_xlabel('购物篮系数')\n",
    "    axe.scatter(data['购物篮系数'],data['含指定大类的销售单数']) \n",
    "    plt.axhline(y=data['含指定大类的销售单数'].mean(),ls=\"-\",color=\"#d62728\",linewidth=1)#y=0表示水平线过y=0，ls设置线条类型，linewidth设置线条粗细\n",
    "    plt.axvline(x=data['购物篮系数'].mean(),ls=\"-\",color=\"#d62728\",linewidth=1)\n",
    "    plt.annotate('红线为均值线',xy=(1,50),xytext=(1.2,50),xycoords='data',\n",
    "               )\n",
    "    "
   ]
  },
  {
   "cell_type": "code",
   "execution_count": null,
   "metadata": {
    "tags": []
   },
   "outputs": [],
   "source": [
    "figure3(data3)"
   ]
  },
  {
   "cell_type": "code",
   "execution_count": null,
   "metadata": {},
   "outputs": [],
   "source": [
    "# 第一象限（右上角）：购物篮系数和购物篮数量都比较高，属于人气商品\n",
    "# 第二象限（左上角）：购物篮数量比较高，但购物篮系数低于平均值，这部分商品需要解决的是如果提高它们的关联销售\n",
    "# 第三象限（左下角）：购物篮系数和购物篮数量都比较低，基本属于边缘商品，本身卖的不好也与其他商品关联度不高\n",
    "# 第四象限（右下角）：购物篮系数比较高，购物篮数量低于平均值，这部分商品需要解决的是如果提高它们的购物篮数量"
   ]
  },
  {
   "cell_type": "code",
   "execution_count": null,
   "metadata": {},
   "outputs": [],
   "source": [
    "#处于第一象限的大类名单:粮油,日配\n",
    "SELECT 大类名称 \n",
    "FROM view1\n",
    "WHERE 含指定大类的销售单数>=(SELECT avg(含指定大类的销售单数) FROM view1)\n",
    "AND 购物篮系数>=(SELECT avg(购物篮系数) FROM view1)\n",
    "#处于第二象限的大类名单:蔬果,休闲,洗化\n",
    "SELECT 大类名称 \n",
    "FROM view1\n",
    "WHERE 含指定大类的销售单数>=(SELECT avg(含指定大类的销售单数) FROM view1)\n",
    "AND 购物篮系数<(SELECT avg(购物篮系数) FROM view1)\n",
    "#处于第三象限的大类名单:肉禽,熟食,水产,家电,烘焙\n",
    "SELECT 大类名称 \n",
    "FROM view1\n",
    "WHERE 含指定大类的销售单数<(SELECT avg(含指定大类的销售单数) FROM view1)\n",
    "AND 购物篮系数<(SELECT avg(购物篮系数) FROM view1)\n",
    "#处于第四象限的大类名单:酒饮,冲调,家居,针织,文体\n",
    "SELECT 大类名称 \n",
    "FROM view1\n",
    "WHERE 含指定大类的销售单数<(SELECT avg(含指定大类的销售单数) FROM view1)\n",
    "AND 购物篮系数>=(SELECT avg(购物篮系数) FROM view1)"
   ]
  },
  {
   "cell_type": "code",
   "execution_count": null,
   "metadata": {},
   "outputs": [],
   "source": [
    "#指定商品人气指数=某段时间含指定商品购物篮的销售总数/某段时间的购物篮总数\n",
    "#挑选销量前5的大类分析其人气指数\n",
    "CREATE VIEW view2\n",
    "AS\n",
    "SELECT *\n",
    "FROM (\n",
    "\t\tSELECT 大类名称,销售数量,row_number()over(ORDER BY 销售数量 DESC) as rank1\n",
    "\t\tFROM \n",
    "\t\t(\n",
    "\t\t\t\tSELECT 大类名称,sum(销售数量) 销售数量\n",
    "\t\t\t\tFROM salesdata\n",
    "\t\t\t\tGROUP BY 大类名称\n",
    "\t\t) as a\n",
    ") as tempp\n",
    "WHERE rank1<=5\n",
    "\n",
    "SELECT view1.大类名称,购物篮系数,人气指数,销售数量\n",
    "FROM view1\n",
    "JOIN view2\n",
    "ON view1.大类名称=view2.大类名称\n"
   ]
  },
  {
   "cell_type": "markdown",
   "metadata": {},
   "source": [
    "![图片](图片/15.png)"
   ]
  },
  {
   "cell_type": "markdown",
   "metadata": {},
   "source": [
    "## 商品的关联程度分析\n",
    "品类间的关联\n",
    "* 选择销量前5的大类进行关联度分析:日配 蔬果 粮油 休闲 酒饮"
   ]
  },
  {
   "cell_type": "code",
   "execution_count": null,
   "metadata": {},
   "outputs": [],
   "source": [
    "#支持度、可信度、提升度\n",
    "# 支持度：同时包含A和B的交易/总交易*100%\n",
    "# 可信度：同时包含A和B的交易/包含A的总交易*100%\n",
    "# 提升度：可信度/商品B在总交易中出现的概率\n",
    "\n"
   ]
  },
  {
   "cell_type": "code",
   "execution_count": null,
   "metadata": {},
   "outputs": [],
   "source": [
    "#创建临时表view3，计算销量前5的商品大类关联交易数量"
   ]
  },
  {
   "cell_type": "raw",
   "metadata": {
    "tags": []
   },
   "source": [
    "CREATE VIEW view3\n",
    "AS\n",
    "SELECT 商品大类,sum(总交易数) 总交易数,sum(蔬果) 同时购买蔬果,sum(日配) 同时购买日配,\n",
    "sum(粮油) 同时购买粮油,sum(休闲) 同时购买休闲,\n",
    "sum(酒饮) 同时购买酒饮\n",
    "FROM(\n",
    "\t\tSELECT  顾客编号,销售日期,\n",
    "\t\t'蔬果' as 商品大类,1 as 总交易数,\n",
    "\t\t(case when instr(GROUP_CONCAT(DISTINCT 大类名称),'蔬果')<>0 then 1 else 0 end) 蔬果  ,\n",
    "\t\t(case when instr(GROUP_CONCAT(DISTINCT 大类名称),'蔬果')<>0 and instr(GROUP_CONCAT(DISTINCT 大类名称),'日配')<>0 then 1 else 0 end)日配,\n",
    "\t\t(case when instr(GROUP_CONCAT(DISTINCT 大类名称),'蔬果')<>0 and instr(GROUP_CONCAT(DISTINCT 大类名称),'粮油')<>0 then 1 else 0 end)粮油,\n",
    "\t\t(case when instr(GROUP_CONCAT(DISTINCT 大类名称),'蔬果')<>0 and instr(GROUP_CONCAT(DISTINCT 大类名称),'休闲')<>0 then 1 else 0 end)休闲,\n",
    "\t\t(case when instr(GROUP_CONCAT(DISTINCT 大类名称),'蔬果')<>0 and instr(GROUP_CONCAT(DISTINCT 大类名称),'酒饮')<>0 then 1 else 0 end)酒饮\n",
    "\t\tFROM salesdata\n",
    "\t\tGROUP BY 顾客编号,销售日期\n",
    ") as a \n",
    "GROUP BY 商品大类\n",
    "UNION \n",
    "SELECT 商品大类,sum(总交易数) 总交易数,sum(蔬果) 蔬果,sum(日配) 日配,\n",
    "sum(粮油) 粮油,sum(休闲) 休闲,\n",
    "sum(酒饮) 酒饮\n",
    "FROM(\n",
    "\t\tSELECT  顾客编号,销售日期,\n",
    "\t\t'日配' as 商品大类,1 as 总交易数,\n",
    "\t\t(case when instr(GROUP_CONCAT(DISTINCT 大类名称),'日配')<>0 and instr(GROUP_CONCAT(DISTINCT 大类名称),'蔬果')<>0 then 1 else 0 end) 蔬果,\n",
    "\t\t(case when instr(GROUP_CONCAT(DISTINCT 大类名称),'日配')<>0 then 1 else 0 end) 日配  ,\n",
    "\t\t(case when instr(GROUP_CONCAT(DISTINCT 大类名称),'日配')<>0 and instr(GROUP_CONCAT(DISTINCT 大类名称),'粮油')<>0 then 1 else 0 end) 粮油,\n",
    "\t\t(case when instr(GROUP_CONCAT(DISTINCT 大类名称),'日配')<>0 and instr(GROUP_CONCAT(DISTINCT 大类名称),'休闲')<>0 then 1 else 0 end) 休闲,\n",
    "\t\t(case when instr(GROUP_CONCAT(DISTINCT 大类名称),'日配')<>0 and instr(GROUP_CONCAT(DISTINCT 大类名称),'酒饮')<>0 then 1 else 0 end) 酒饮\n",
    "\t\tFROM salesdata\n",
    "\t\tGROUP BY 顾客编号,销售日期\n",
    ") as a \n",
    "GROUP BY 商品大类\n",
    "UNION \n",
    "SELECT 商品大类,sum(总交易数) 总交易数,sum(蔬果) 蔬果,sum(日配) 日配,\n",
    "sum(粮油) 粮油,sum(休闲) 休闲,\n",
    "sum(酒饮) 酒饮\n",
    "FROM(\n",
    "\t\tSELECT  顾客编号,销售日期,\n",
    "\t\t'粮油' as 商品大类,1 as 总交易数,\n",
    "\t\t(case when instr(GROUP_CONCAT(DISTINCT 大类名称),'粮油')<>0 and instr(GROUP_CONCAT(DISTINCT 大类名称),'蔬果')<>0 then 1 else 0 end) 蔬果,\n",
    "\t\t(case when instr(GROUP_CONCAT(DISTINCT 大类名称),'粮油')<>0 and instr(GROUP_CONCAT(DISTINCT 大类名称),'日配')<>0 then 1 else 0 end) 日配,\n",
    "\t\t(case when instr(GROUP_CONCAT(DISTINCT 大类名称),'粮油')<>0 then 1 else 0 end) 粮油  ,\n",
    "\t\t(case when instr(GROUP_CONCAT(DISTINCT 大类名称),'粮油')<>0 and instr(GROUP_CONCAT(DISTINCT 大类名称),'休闲')<>0 then 1 else 0 end) 休闲,\n",
    "\t\t(case when instr(GROUP_CONCAT(DISTINCT 大类名称),'粮油')<>0 and instr(GROUP_CONCAT(DISTINCT 大类名称),'酒饮')<>0 then 1 else 0 end) 酒饮\n",
    "\t\tFROM salesdata\n",
    "\t\tGROUP BY 顾客编号,销售日期\n",
    ") as a \n",
    "GROUP BY 商品大类\n",
    "UNION \n",
    "SELECT 商品大类,sum(总交易数) 总交易数,sum(蔬果) 蔬果,sum(日配) 日配,\n",
    "sum(粮油) 粮油,sum(休闲) 休闲,\n",
    "sum(酒饮) 酒饮\n",
    "FROM(\n",
    "\t\tSELECT  顾客编号,销售日期,\n",
    "\t\t'休闲' as 商品大类,1 as 总交易数,\n",
    "\t\t(case when instr(GROUP_CONCAT(DISTINCT 大类名称),'休闲')<>0 and instr(GROUP_CONCAT(DISTINCT 大类名称),'蔬果')<>0 then 1 else 0 end) 蔬果,\n",
    "\t\t(case when instr(GROUP_CONCAT(DISTINCT 大类名称),'休闲')<>0 and instr(GROUP_CONCAT(DISTINCT 大类名称),'日配')<>0 then 1 else 0 end) 日配,\n",
    "\t\t(case when instr(GROUP_CONCAT(DISTINCT 大类名称),'休闲')<>0 and instr(GROUP_CONCAT(DISTINCT 大类名称),'粮油')<>0 then 1 else 0 end) 粮油,\n",
    "\t\t(case when instr(GROUP_CONCAT(DISTINCT 大类名称),'休闲')<>0 then 1 else 0 end) 休闲  ,\n",
    "\t\t(case when instr(GROUP_CONCAT(DISTINCT 大类名称),'休闲')<>0 and instr(GROUP_CONCAT(DISTINCT 大类名称),'酒饮')<>0 then 1 else 0 end) 酒饮\n",
    "\t\tFROM salesdata\n",
    "\t\tGROUP BY 顾客编号,销售日期\n",
    ") as a \n",
    "GROUP BY 商品大类\n",
    "UNION \n",
    "SELECT 商品大类,sum(总交易数) 总交易数,sum(蔬果) 蔬果,sum(日配) 日配,\n",
    "sum(粮油) 粮油,sum(休闲) 休闲,\n",
    "sum(酒饮) 酒饮\n",
    "FROM(\n",
    "\t\tSELECT  顾客编号,销售日期,\n",
    "\t\t'酒饮' as 商品大类,1 as 总交易数,\n",
    "\t\t(case when instr(GROUP_CONCAT(DISTINCT 大类名称),'酒饮')<>0 and instr(GROUP_CONCAT(DISTINCT 大类名称),'蔬果')<>0 then 1 else 0 end) 蔬果,\n",
    "\t\t(case when instr(GROUP_CONCAT(DISTINCT 大类名称),'酒饮')<>0 and instr(GROUP_CONCAT(DISTINCT 大类名称),'日配')<>0 then 1 else 0 end) 日配,\n",
    "\t\t(case when instr(GROUP_CONCAT(DISTINCT 大类名称),'酒饮')<>0 and instr(GROUP_CONCAT(DISTINCT 大类名称),'粮油')<>0 then 1 else 0 end) 粮油,\n",
    "\t\t(case when instr(GROUP_CONCAT(DISTINCT 大类名称),'酒饮')<>0 and instr(GROUP_CONCAT(DISTINCT 大类名称),'休闲')<>0 then 1 else 0 end) 休闲,\n",
    "\t\t(case when instr(GROUP_CONCAT(DISTINCT 大类名称),'酒饮')<>0 then 1 else 0 end) 酒饮 \n",
    "\t\tFROM salesdata\n",
    "\t\tGROUP BY 顾客编号,销售日期\n",
    ") as a \n",
    "GROUP BY 商品大类\n"
   ]
  },
  {
   "cell_type": "markdown",
   "metadata": {},
   "source": [
    "![图片](图片/16.png)"
   ]
  },
  {
   "cell_type": "code",
   "execution_count": null,
   "metadata": {},
   "outputs": [],
   "source": [
    "#创建临时表view4，计算销量前5的商品大类在总交易中出现的的概率"
   ]
  },
  {
   "cell_type": "code",
   "execution_count": null,
   "metadata": {},
   "outputs": [],
   "source": [
    "CREATE VIEW view4\n",
    "AS\n",
    "SELECT 商品大类,(case when  商品大类='蔬果' then 同时购买蔬果/总交易数\n",
    "\t\t\t\t\twhen 商品大类='日配' then 同时购买日配/总交易数\n",
    "\t\t\t\t\twhen 商品大类='粮油' then 同时购买粮油/总交易数\n",
    "\t\t\t\t\twhen 商品大类='休闲' then 同时购买休闲/总交易数\n",
    "\t\t\t\t\twhen 商品大类='酒饮' then  同时购买酒饮/总交易数 \n",
    "\t\t\t\t\tend ) 各商品在总交易中出现的概率\n",
    "FROM view3;"
   ]
  },
  {
   "cell_type": "markdown",
   "metadata": {},
   "source": [
    "![图片](图片/17.png)"
   ]
  },
  {
   "cell_type": "code",
   "execution_count": null,
   "metadata": {},
   "outputs": [],
   "source": [
    "#支持度表"
   ]
  },
  {
   "cell_type": "code",
   "execution_count": null,
   "metadata": {},
   "outputs": [],
   "source": [
    "SELECT 商品大类,同时购买蔬果/总交易数 同时购买蔬果,同时购买日配/总交易数 同时购买日配 ,同时购买粮油/总交易数 同时购买粮油,\n",
    "同时购买休闲/总交易数 同时购买休闲, 同时购买酒饮/总交易数 同时购买酒饮\n",
    "FROM view3"
   ]
  },
  {
   "cell_type": "markdown",
   "metadata": {},
   "source": [
    "![图片](图片/18.png)"
   ]
  },
  {
   "cell_type": "code",
   "execution_count": null,
   "metadata": {},
   "outputs": [],
   "source": [
    "#可信度表"
   ]
  },
  {
   "cell_type": "code",
   "execution_count": null,
   "metadata": {},
   "outputs": [],
   "source": [
    "CREATE VIEW kexingdu\n",
    "AS\n",
    "SELECT 商品大类,\n",
    "\t(case when 商品大类='蔬果' then 1\n",
    "\t      when 商品大类='日配' then 同时购买蔬果/同时购买日配\n",
    "\t\t\t\twhen 商品大类='粮油' then 同时购买蔬果/同时购买粮油\n",
    "\t\t\t\twhen 商品大类='休闲' then 同时购买蔬果/同时购买休闲\n",
    "\t\t\t\twhen 商品大类='酒饮' then 同时购买蔬果/同时购买酒饮\n",
    "end ) 同时购买蔬果,\n",
    "(case when 商品大类='日配' then 1 \n",
    "\t      when 商品大类='蔬果' then 同时购买日配/同时购买蔬果\n",
    "\t\t\t\twhen 商品大类='粮油' then 同时购买日配/同时购买粮油\n",
    "\t\t\t\twhen 商品大类='休闲' then 同时购买日配/同时购买休闲\n",
    "\t\t\t\twhen 商品大类='酒饮' then 同时购买日配/同时购买酒饮\n",
    "end ) 同时购买日配,\n",
    "(case when 商品大类='粮油' then 1\n",
    "\t      when 商品大类='蔬果' then 同时购买粮油/同时购买蔬果\n",
    "\t\t\t\twhen 商品大类='日配' then 同时购买粮油/同时购买日配\n",
    "\t\t\t\twhen 商品大类='休闲' then 同时购买粮油/同时购买休闲\n",
    "\t\t\t\twhen 商品大类='酒饮' then 同时购买粮油/同时购买酒饮\n",
    "end ) 同时购买粮油,\n",
    "(case when 商品大类='休闲' then 1 \n",
    "\t      when 商品大类='蔬果' then 同时购买休闲/同时购买蔬果\n",
    "\t\t\t\twhen 商品大类='粮油' then 同时购买休闲/同时购买粮油\n",
    "\t\t\t\twhen 商品大类='日配' then 同时购买休闲/同时购买日配\n",
    "\t\t\t\twhen 商品大类='酒饮' then 同时购买休闲/同时购买酒饮\n",
    "end ) 同时购买休闲,\n",
    "(case when 商品大类='酒饮' then 1 \n",
    "\t      when 商品大类='蔬果' then 同时购买酒饮/同时购买蔬果\n",
    "\t\t\t\twhen 商品大类='粮油' then 同时购买酒饮/同时购买粮油\n",
    "\t\t\t\twhen 商品大类='休闲' then 同时购买酒饮/同时购买休闲\n",
    "\t\t\t\twhen 商品大类='日配' then 同时购买酒饮/同时购买日配\n",
    "end ) 同时购买酒饮\n",
    "FROM view3;"
   ]
  },
  {
   "cell_type": "markdown",
   "metadata": {},
   "source": [
    "![图片](图片/19.png)"
   ]
  },
  {
   "cell_type": "code",
   "execution_count": null,
   "metadata": {},
   "outputs": [],
   "source": [
    "#提升度表"
   ]
  },
  {
   "cell_type": "raw",
   "metadata": {},
   "source": [
    "SELECT 商品大类, 同时购买蔬果/(SELECT 各商品在总交易中出现的概率 FROM view4 WHERE 商品大类='蔬果' ) as 同时购买蔬果,\n",
    " 同时购买日配/(SELECT 各商品在总交易中出现的概率 FROM view4 WHERE 商品大类='日配' ) as 同时购买日配,\n",
    " 同时购买粮油/(SELECT 各商品在总交易中出现的概率 FROM view4 WHERE 商品大类='粮油' ) as 同时购买粮油,\n",
    " 同时购买休闲/(SELECT 各商品在总交易中出现的概率 FROM view4 WHERE 商品大类='休闲' ) as 同时购买休闲,\n",
    " 同时购买酒饮/(SELECT 各商品在总交易中出现的概率 FROM view4 WHERE 商品大类='酒饮' ) as 同时购买酒饮\n",
    "FROM kexingdu"
   ]
  },
  {
   "cell_type": "markdown",
   "metadata": {},
   "source": [
    "![图片](图片/20.png)"
   ]
  },
  {
   "cell_type": "code",
   "execution_count": null,
   "metadata": {},
   "outputs": [],
   "source": [
    "#综合支持度、可信度、提升度，销量前五的大类中酒饮和休闲的关联性强，可考虑捆绑销售，或者在货架陈列时放在一起"
   ]
  },
  {
   "cell_type": "markdown",
   "metadata": {},
   "source": [
    "# RFM模型分析\n",
    "R：客户最近一次消费距离当前日期天数（当前日期为数据中的最晚日期）\n",
    "F：客户在某段时间的消费频率\n",
    "M：客户在某段时间的消费总金额"
   ]
  },
  {
   "cell_type": "raw",
   "metadata": {},
   "source": [
    "提取数据中的最晚日期:2015-04-30\n",
    "SELECT max(`销售日期`) FROM salesdata"
   ]
  },
  {
   "cell_type": "code",
   "execution_count": null,
   "metadata": {},
   "outputs": [],
   "source": [
    "#创建RFM表"
   ]
  },
  {
   "cell_type": "code",
   "execution_count": null,
   "metadata": {},
   "outputs": [],
   "source": [
    "CREATE VIEW RFMtable\n",
    "AS\n",
    "SELECT 顾客编号,TIMESTAMPDIFF(day,max(日期),(SELECT max(销售日期) FROM salesdata)) R,\n",
    "count(日期) F,SUM(M) M\n",
    "FROM(\n",
    "\t\tSELECT `顾客编号`,`销售日期`,max(销售日期) 日期,sum(`销售金额`) M\n",
    "\t\tFROM salesdata\n",
    "\t\tGROUP BY `顾客编号`,`销售日期`\n",
    "\t\tORDER BY `顾客编号`,`销售日期`\n",
    ") as a \n",
    "GROUP BY 顾客编号"
   ]
  },
  {
   "cell_type": "raw",
   "metadata": {},
   "source": [
    "#给给个客户的RFM值打分,分组，并统计各类价值用户的平均r,f,m\n",
    "r_s:R值大于等于R的均值，计为1，小于R的均值，计为2\n",
    "f_s:F值大于等于F的均值，计为2，小于F的均值，计为1\n",
    "m_s:M值大于等于M的均值，计为2，小于M的均值，计为1"
   ]
  },
  {
   "cell_type": "code",
   "execution_count": null,
   "metadata": {},
   "outputs": [],
   "source": [
    "SELECT label ,count(顾客编号) 人数,round(std(R),2) 平均R,round(std(F),2) 平均F,round(std(M),2) 平均M\n",
    "FROM (\n",
    "\t\tSELECT *,(case when concat(r_s,f_s,m_s)='111' then '一般挽留客户'\n",
    "\t\t\t\t\t\t\t\t\t when concat(r_s,f_s,m_s)='112' then '重要挽留客户'\n",
    "\t\t\t\t\t\t\t\t\t when concat(r_s,f_s,m_s)='121' then '一般保持客户'\n",
    "\t\t\t\t\t\t\t\t\t when concat(r_s,f_s,m_s)='122' then '重要保持客户'\n",
    "\t\t\t\t\t\t\t\t\t when concat(r_s,f_s,m_s)='211' then '一般发展客户'\n",
    "\t\t\t\t\t\t\t\t\t when concat(r_s,f_s,m_s)='212' then '重要发展客户'\n",
    "\t\t\t\t\t\t\t\t\t when concat(r_s,f_s,m_s)='221' then '一般价值客户'\n",
    "\t\t\t\t\t\t\t\t\t when concat(r_s,f_s,m_s)='222' then '重要价值客户'\n",
    "\t\t\t\t\t\tend ) label\n",
    "\t\tFROM(\n",
    "\t\t\t\tSELECT *,( case when R>=(SELECT std(R) FROM RFMtable) THEN 1 else 2 END) r_s,\n",
    "\t\t\t\t( case when F>=(SELECT std(F) FROM RFMtable) THEN 2 else 1 END) f_s,\n",
    "\t\t\t\t( case when M>=(SELECT std(M) FROM RFMtable) THEN 2 else 1 END) m_s\n",
    "\t\t\t\tFROM RFMtable\n",
    "\t\t) as a \n",
    ") as b\n",
    "GROUP BY label\n"
   ]
  },
  {
   "cell_type": "markdown",
   "metadata": {},
   "source": [
    "![图片](图片/21.png)"
   ]
  },
  {
   "cell_type": "code",
   "execution_count": null,
   "metadata": {},
   "outputs": [],
   "source": [
    "#对不同价值用户采用不同的营销策略 ，比如：\n",
    "#重要价值客户：提供高品质的会员服务 \n",
    "#一般挽留客户：增加推送，激活用户"
   ]
  },
  {
   "cell_type": "markdown",
   "metadata": {},
   "source": [
    "# 促销分析"
   ]
  },
  {
   "cell_type": "code",
   "execution_count": null,
   "metadata": {},
   "outputs": [],
   "source": [
    "#每次购物是否购买促销品来对客户进行分类\n",
    "CREATE VIEW cuxiao_kehu\n",
    "AS\n",
    "SELECT 顾客编号,消费次数,购买过促销消费占比,\n",
    "\t (case when 购买过促销消费占比=0 then '不喜欢促销品'\n",
    "\t when 购买过促销消费占比>0 and 购买过促销消费占比<0.5  then '喜欢促销品'\n",
    "\t when 购买过促销消费占比>=0.5  then '非常喜欢促销品'\n",
    "\t end ) 喜欢促销品的程度\n",
    "FROM(\n",
    "\t\tSELECT 顾客编号,count(销售日期) 消费次数 ,round(sum(case when 是否购买促销<>0 then 1 else 0 end )/count(销售日期),2) 购买过促销消费占比\n",
    "\t\tFROM (\n",
    "\t\t\t\tSELECT`顾客编号`,`销售日期`,\n",
    "\t\t\t\tsum(case when 是否促销='是' then 1 else 0 end) 是否购买促销\n",
    "\t\t\t\tFROM salesdata\n",
    "\t\t\t\tGROUP BY `顾客编号`,`销售日期`\n",
    "\t\t\t\tORDER BY  `顾客编号`,`销售日期`\n",
    "\t\t) as a \n",
    "\t\tGROUP BY 顾客编号\n",
    ") as b"
   ]
  },
  {
   "cell_type": "code",
   "execution_count": null,
   "metadata": {},
   "outputs": [],
   "source": [
    "#统计对促销喜欢程度不同的客户数量"
   ]
  },
  {
   "cell_type": "code",
   "execution_count": null,
   "metadata": {},
   "outputs": [],
   "source": [
    "SELECT 喜欢促销品的程度,count(顾客编号)\n",
    "FROM cuxiao_kehu\n",
    "GROUP BY  喜欢促销品的程度"
   ]
  },
  {
   "cell_type": "markdown",
   "metadata": {},
   "source": [
    "![图片](图片/22.png)"
   ]
  },
  {
   "cell_type": "code",
   "execution_count": null,
   "metadata": {},
   "outputs": [],
   "source": [
    "# 每天曾参加促销的小类占比与整体的销售金额的关系\n",
    "SELECT 销售日期,round(sum(case when 是否促销='是' then 1 else 0 end )/count(小类名称),2) 每日促销的小类种类占比,sum(销售金额) 销售金额\n",
    "FROM(\n",
    "\t\tSELECT 销售日期,小类名称,是否促销,sum(销售金额) 销售金额\n",
    "\t\tFROM salesdata\n",
    "\t\tGROUP BY 销售日期,小类名称,是否促销\n",
    ") as a\n",
    "GROUP BY 销售日期"
   ]
  },
  {
   "cell_type": "code",
   "execution_count": null,
   "metadata": {},
   "outputs": [],
   "source": [
    "# df = pd.read_clipboard()\n",
    "# df.to_csv('./data4.csv',index=False)"
   ]
  },
  {
   "cell_type": "code",
   "execution_count": null,
   "metadata": {},
   "outputs": [],
   "source": [
    "data4 = pd.read_csv('./data4.csv').set_index('销售日期')"
   ]
  },
  {
   "cell_type": "code",
   "execution_count": null,
   "metadata": {},
   "outputs": [],
   "source": [
    "data4"
   ]
  },
  {
   "cell_type": "code",
   "execution_count": null,
   "metadata": {},
   "outputs": [],
   "source": [
    "fig = plt.figure()\n",
    "axe = fig.add_subplot(111)\n",
    "axe.plot(data4.index,data4['销售金额'],label='销售金额')\n",
    "axe.set_ylabel('销售金额')\n",
    "plt.legend(loc=3)\n",
    "axe1 = axe.twinx()\n",
    "axe1.set_ylabel('每日促销的小类种类占比')\n",
    "axe1.plot(data4.index,data4['每日促销的小类种类占比'],'r--',label='每日促销的小类种类占比')\n",
    "plt.xticks(data4.index[::15])\n",
    "plt.legend()"
   ]
  },
  {
   "cell_type": "code",
   "execution_count": null,
   "metadata": {},
   "outputs": [],
   "source": [
    "#销售金额在一定程度上与促销有=关"
   ]
  }
 ],
 "metadata": {
  "kernelspec": {
   "display_name": "Python 3 (ipykernel)",
   "language": "python",
   "name": "python3"
  },
  "language_info": {
   "codemirror_mode": {
    "name": "ipython",
    "version": 3
   },
   "file_extension": ".py",
   "mimetype": "text/x-python",
   "name": "python",
   "nbconvert_exporter": "python",
   "pygments_lexer": "ipython3",
   "version": "3.7.13"
  },
  "toc-autonumbering": true,
  "toc-showtags": true
 },
 "nbformat": 4,
 "nbformat_minor": 4
}
